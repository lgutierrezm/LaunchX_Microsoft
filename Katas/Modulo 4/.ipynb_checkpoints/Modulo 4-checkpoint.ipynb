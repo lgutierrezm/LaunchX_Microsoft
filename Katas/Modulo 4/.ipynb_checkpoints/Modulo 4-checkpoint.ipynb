{
 "cells": [
  {
   "cell_type": "markdown",
   "id": "7e7e0e25",
   "metadata": {},
   "source": [
    "# Ejercicio 1: Transformar cadenas\n",
    "\n",
    "Hay varias operaciones que puedes realizar en las cadenas cuando las manipulamos. En este ejercicio, usarás métodos de cadena para modificar el texto con hechos sobre la Luna y luego extraerás información para crear un breve resumen.\n",
    "\n",
    "Nota Dedica unos minutos a tratar de encontrar una solución. Luego desplázate hacia abajo hasta la parte inferior para ver si has logrado compilar el programa de acuerdo con las especificaciones.\n",
    "\n",
    "El texto con el que trabajarás es el siguiente:"
   ]
  },
  {
   "cell_type": "code",
   "execution_count": 41,
   "id": "3ebf0b4e",
   "metadata": {},
   "outputs": [],
   "source": [
    "text = \"\"\"Interesting facts about the Moon. The Moon is Earth's only satellite. There are several interesting facts about the Moon and how it affects life here on Earth. \n",
    "On average, the Moon moves 4cm away from the Earth every year. This yearly drift is not significant enough to cause immediate effects on Earth. The highest C\"\"\""
   ]
  },
  {
   "cell_type": "code",
   "execution_count": 42,
   "id": "a1b24daa",
   "metadata": {},
   "outputs": [
    {
     "name": "stdout",
     "output_type": "stream",
     "text": [
      "['Interesting facts about the Moon', \" The Moon is Earth's only satellite\", ' There are several interesting facts about the Moon and how it affects life here on Earth', ' \\nOn average, the Moon moves 4cm away from the Earth every year', ' This yearly drift is not significant enough to cause immediate effects on Earth', ' The highest C']\n"
     ]
    }
   ],
   "source": [
    "#Primero, divide el texto en cada oración para trabajar con su contenido:\n",
    "\n",
    "dividirCadena = text.split('.')\n",
    "print(dividirCadena)\n"
   ]
  },
  {
   "cell_type": "code",
   "execution_count": 43,
   "id": "064aa2ec",
   "metadata": {},
   "outputs": [],
   "source": [
    "#Ahora, define algunas palabras clave para búsqueda que te ayudarán a determinar si una oración contiene un hecho.\n",
    "# Define las palabras pista: average, temperature y distance suenan bien\n",
    "\n",
    "palabrasBusqueda = [\"average\", \"temperature\", \"distance\"]\n"
   ]
  },
  {
   "cell_type": "code",
   "execution_count": 44,
   "id": "a5fb4110",
   "metadata": {},
   "outputs": [
    {
     "name": "stdout",
     "output_type": "stream",
     "text": [
      "La palabra es: average\n",
      "El texto es:  \n",
      "On average, the Moon moves 4cm away from the Earth every year\n",
      "********************\n"
     ]
    }
   ],
   "source": [
    "#Cre un bucle para imprimir solo datos sobre la Luna que estén relacionados con las palabras clave definidas anteriormente:\n",
    "# Ciclo for para recorrer la cadena\n",
    "\n",
    "\n",
    "for palabraArrayTexto in dividirCadena:\n",
    "    for palabra in palabrasBusqueda:\n",
    "        if palabraArrayTexto.find(palabra) != -1:\n",
    "            print('La palabra es: '+ palabra)\n",
    "            print('El texto es: '+ palabraArrayTexto)\n",
    "            print('********************')\n",
    "            \n",
    "            \n",
    "        \n",
    "\n",
    "        \n",
    "        "
   ]
  },
  {
   "cell_type": "code",
   "execution_count": 45,
   "id": "0830558d",
   "metadata": {},
   "outputs": [
    {
     "name": "stdout",
     "output_type": "stream",
     "text": [
      "Cambiando palabra: Interesting facts about the Moon\n",
      "Cambiando palabra:  The Moon is Earth's only satellite\n",
      "Cambiando palabra:  There are several interesting facts about the Moon and how it affects life here on Earth\n",
      "Cambiando palabra:  \n",
      "On average, the Moon moves 4cm away from the Earth every year\n",
      "Cambiando palabra:  This yearly drift is not significant enough to cause immediate effects on Earth\n",
      "Cambiando palabra:  The highest Celsius\n"
     ]
    }
   ],
   "source": [
    "#Cre un bucle para imprimir solo datos sobre la Luna que estén relacionados con las palabras clave definidas anteriormente:\n",
    "# Ciclo for para recorrer la cadena\n",
    "\n",
    "\n",
    "for palabraArrayTexto in dividirCadena:\n",
    "    print('Cambiando palabra: '+ palabraArrayTexto.replace(' C', ' Celsius'))\n",
    "\n",
    "            "
   ]
  },
  {
   "cell_type": "markdown",
   "id": "1bd792bd",
   "metadata": {},
   "source": [
    "# Ejercicio 2: Formateando Cadenas\n",
    "Saber cómo dar formato a las cadenas es esencial cuando se presenta información de un programa. Hay algunas maneras diferentes de lograr esto en Python. En este ejercicio, se utilizan variables que contienen datos clave sobre la gravedad en varias lunas y luego se utilizan para dar formato e imprimir la información.\n",
    "\n",
    "El formato tiene que acomodar información sobre otras lunas, por lo que debe ser genérico.\n",
    "\n",
    "En lugar de reemplazar las variables en una cadena larga como parte de un párrafo, utiliza la información para presentarla en un formato tabular. El resultado debería verse así:\n",
    "\n",
    "Gravity Facts about Ganymede\n",
    "-------------------------------------------------------------------------------\n",
    "Planet Name: Mars\n",
    "Gravity on Ganymede: 1.4300000000000002 m/s2"
   ]
  },
  {
   "cell_type": "code",
   "execution_count": 54,
   "id": "8e635d3b",
   "metadata": {},
   "outputs": [],
   "source": [
    "# Datos con los que vas a trabajar\n",
    "name = \"Moon\"\n",
    "gravity = 0.00162 # in kms\n",
    "planet = \"Earth\""
   ]
  },
  {
   "cell_type": "code",
   "execution_count": 64,
   "id": "83a5c391",
   "metadata": {},
   "outputs": [
    {
     "name": "stdout",
     "output_type": "stream",
     "text": [
      "La gravedad entre dos planetas: \n"
     ]
    }
   ],
   "source": [
    "# Creamos el título\n",
    "titulo = f'La gravedad entre dos planetas: '\n",
    "print(titulo)"
   ]
  },
  {
   "cell_type": "code",
   "execution_count": 65,
   "id": "e0f9ea58",
   "metadata": {},
   "outputs": [
    {
     "name": "stdout",
     "output_type": "stream",
     "text": [
      "La distancia en metros kilometros es de: 0.00162 que en metros equivale a 1.6199999999999999\n"
     ]
    }
   ],
   "source": [
    "distanciaPlanetas = 0.00162 #kilometros\n",
    "print(f'La distancia en metros kilometros es de: {distanciaPlanetas} que en metros equivale a {distanciaPlanetas * 1000}')\n"
   ]
  },
  {
   "cell_type": "code",
   "execution_count": 66,
   "id": "3c9bff31",
   "metadata": {},
   "outputs": [
    {
     "name": "stdout",
     "output_type": "stream",
     "text": [
      "La gravedad del planeta Marte  vs la Ganímedes es de 1.6199999999999999 m/s2\n"
     ]
    }
   ],
   "source": [
    "# Creamos la plantilla\n",
    "datos = f\"\"\"La gravedad del planeta {name} vs la {planet} es de {distanciaPlanetas * 1000} m/s2\"\"\"\n",
    "print(datos)"
   ]
  },
  {
   "cell_type": "code",
   "execution_count": 67,
   "id": "883074e1",
   "metadata": {},
   "outputs": [
    {
     "name": "stdout",
     "output_type": "stream",
     "text": [
      "La gravedad entre dos planetas: La gravedad del planeta Marte  vs la Ganímedes es de 1.6199999999999999 m/s2\n"
     ]
    }
   ],
   "source": [
    "# Unión de ambas cadenas\n",
    "plantilla = f'{titulo}{datos}'\n",
    "print(plantilla)"
   ]
  },
  {
   "cell_type": "code",
   "execution_count": 69,
   "id": "1a5648f0",
   "metadata": {},
   "outputs": [],
   "source": [
    "# Nuevos datos muestra\n",
    "#ejecutar las celdas anteriores menos la primera en orden\n",
    "name = 'Marte '\n",
    "gravity  = 0.00143\n",
    "planet = 'Ganímedes'"
   ]
  },
  {
   "cell_type": "code",
   "execution_count": 70,
   "id": "1fb799ad",
   "metadata": {},
   "outputs": [
    {
     "name": "stdout",
     "output_type": "stream",
     "text": [
      "La gravedad entre dos planetas: La gravedad del planeta Marte  vs la Ganímedes es de 1.6199999999999999 m/s2\n"
     ]
    }
   ],
   "source": [
    "# Comprobamos la plantilla\n",
    "print(plantilla)"
   ]
  },
  {
   "cell_type": "code",
   "execution_count": 74,
   "id": "45cad1f4",
   "metadata": {},
   "outputs": [
    {
     "name": "stdout",
     "output_type": "stream",
     "text": [
      "\n",
      "Datos de Gravedad sobre: Marte \n",
      "-------------------------------------------------------------------------------\n",
      "Nombre del planeta: Ganímedes\n",
      "Gravedad en Marte : 0.00143 m/s2\n",
      "\n"
     ]
    }
   ],
   "source": [
    "#Nuevo templeate\n",
    "new_template = \"\"\"\n",
    "Datos de Gravedad sobre: {name}\n",
    "-------------------------------------------------------------------------------\n",
    "Nombre del planeta: {planet}\n",
    "Gravedad en {name}: {gravity} m/s2\n",
    "\"\"\"\n",
    "print(new_template.format(name=name, planet=planet, gravity=gravity))"
   ]
  }
 ],
 "metadata": {
  "kernelspec": {
   "display_name": "Python 3 (ipykernel)",
   "language": "python",
   "name": "python3"
  },
  "language_info": {
   "codemirror_mode": {
    "name": "ipython",
    "version": 3
   },
   "file_extension": ".py",
   "mimetype": "text/x-python",
   "name": "python",
   "nbconvert_exporter": "python",
   "pygments_lexer": "ipython3",
   "version": "3.9.7"
  }
 },
 "nbformat": 4,
 "nbformat_minor": 5
}
