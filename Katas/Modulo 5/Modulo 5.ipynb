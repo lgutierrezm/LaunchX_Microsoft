{
 "cells": [
  {
   "cell_type": "markdown",
   "id": "cb330e33",
   "metadata": {},
   "source": [
    "# Ejercicio1 - Utilizar operadores aritméticos\n",
    "## Operadores aritméticos en Python\n",
    "Python proporciona operadores aritméticos comunes para que puedas realizar operaciones matemáticas en tu código. Estos incluyen las cuatro operaciones principales de suma, resta, multiplicación y división.\n",
    "\n",
    "Exploremos cómo podemos crear un programa que pueda calcular la distancia entre dos planetas. Comenzaremos usando dos distancias de planetas: Tierra (149.597.870 km) y Júpiter (778.547.200 km).\n",
    "\n",
    "TIP Dedica unos minutos a tratar de encontrar una solución. Luego desplázate hacia abajo hasta la parte inferior para ver si has logrado compilar el programa de acuerdo con las especificaciones.\n",
    "\n",
    "Nota: Quita las comas cuando uses los valores."
   ]
  },
  {
   "cell_type": "code",
   "execution_count": 6,
   "id": "e9f41449",
   "metadata": {},
   "outputs": [],
   "source": [
    "# Crear variables para almacenar las dos distancias\n",
    "# ¡Asegúrate de quitar las comas!\n",
    "\n",
    "distanciaPrimerPlaneta = 149597870\n",
    "distanciaSegundoPlaneta = 778547200 "
   ]
  },
  {
   "cell_type": "markdown",
   "id": "69701ba7",
   "metadata": {},
   "source": [
    "## Realizar la operación\n",
    "Con los valores obtenidos, es el momento de añadir el código para realizar la operación. Restarás el primer planeta del segundo para determinar la distancia en kilómetros. A continuación, puedes convertir la distancia del kilómetro en millas multiplicándola por 0.621."
   ]
  },
  {
   "cell_type": "code",
   "execution_count": 9,
   "id": "985f79c0",
   "metadata": {},
   "outputs": [
    {
     "name": "stdout",
     "output_type": "stream",
     "text": [
      "628949330\n",
      "390577533.93\n"
     ]
    }
   ],
   "source": [
    "# Calcular la distancia entre planetas\n",
    "\n",
    "\n",
    "distanciaEntrePlanetasKm = ((distanciaSegundoPlaneta - distanciaPrimerPlaneta))\n",
    "distanciaEntrePlanetasMillas = (distanciaEntrePlanetasKm * 0.621)\n",
    "\n",
    "print(str(distanciaEntrePlanetasKm))\n",
    "print(str(distanciaEntrePlanetasMillas))\n"
   ]
  },
  {
   "cell_type": "code",
   "execution_count": 3,
   "id": "bca3373a",
   "metadata": {},
   "outputs": [
    {
     "name": "stdout",
     "output_type": "stream",
     "text": [
      "Coloca la distancia del primer planeta:12\n"
     ]
    }
   ],
   "source": [
    "# Crear variables para almacenar las dos distancias\n",
    "# ¡Asegúrate de quitar las comas!\n",
    "\n",
    "\n",
    "distanciaPrimerPlaneta2 = 0\n",
    "\n",
    "while True:\n",
    "    try:\n",
    "        distanciaPrimerPlaneta2 = int(input('Coloca la distancia del primer planeta:'))\n",
    "        break\n",
    "    except:\n",
    "        print(\"Solo puedes meter números enteros\")\n",
    "        \n",
    "\n"
   ]
  },
  {
   "cell_type": "code",
   "execution_count": 4,
   "id": "d38faa7c",
   "metadata": {},
   "outputs": [
    {
     "name": "stdout",
     "output_type": "stream",
     "text": [
      "Coloca la distancia del segundo planeta:54\n"
     ]
    }
   ],
   "source": [
    "\n",
    "distanciaSegundoPlaneta2 = 0\n",
    "\n",
    "while True:\n",
    "    try:\n",
    "        distanciaSegundoPlaneta2 = int(input('Coloca la distancia del segundo planeta:'))\n",
    "        break\n",
    "    except:\n",
    "        print(\"Solo puedes meter números enteros\")"
   ]
  },
  {
   "cell_type": "markdown",
   "id": "99bd272e",
   "metadata": {},
   "source": [
    "## Convertir a número\n",
    "Debido a que input devuelve valores de cadena, necesitamos convertirlos en números. Para nuestro ejemplo, usaremos int\n",
    "\n",
    "\n",
    "--# Convierte las cadenas de ambos planetas a números enteros\n",
    "Decidí agrupar la entrada y la converción en un mismo código "
   ]
  },
  {
   "cell_type": "markdown",
   "id": "4106fcf1",
   "metadata": {},
   "source": [
    "## Realizar el cálculo y convertir a valor absoluto\n",
    "Con los valores almacenados como números, ahora puedes agregar el código para realizar el cálculo, restando el primer planeta del segundo. Debido a que el segundo planeta podría ser un número mayor, usarás abs para convertirlo a un valor absoluto. También agregarás el código para mostrar el resultado en millas multiplicando la distancia del kilómetro por 0.621"
   ]
  },
  {
   "cell_type": "code",
   "execution_count": 5,
   "id": "57c8fca7",
   "metadata": {},
   "outputs": [
    {
     "name": "stdout",
     "output_type": "stream",
     "text": [
      "42\n",
      "26.082\n"
     ]
    }
   ],
   "source": [
    "# Realizar el cálculo y determinar el valor absoluto\n",
    "# Convertir de KM a Millas\n",
    "\n",
    "distanciaEntrePlanetasKm2 = ((distanciaSegundoPlaneta2 - distanciaPrimerPlaneta2))\n",
    "distanciaEntrePlanetasMillas2 = (distanciaEntrePlanetasKm2 * 0.621)\n",
    "\n",
    "print(str(distanciaEntrePlanetasKm2))\n",
    "print(str(distanciaEntrePlanetasMillas2))"
   ]
  }
 ],
 "metadata": {
  "kernelspec": {
   "display_name": "Python 3 (ipykernel)",
   "language": "python",
   "name": "python3"
  },
  "language_info": {
   "codemirror_mode": {
    "name": "ipython",
    "version": 3
   },
   "file_extension": ".py",
   "mimetype": "text/x-python",
   "name": "python",
   "nbconvert_exporter": "python",
   "pygments_lexer": "ipython3",
   "version": "3.9.7"
  }
 },
 "nbformat": 4,
 "nbformat_minor": 5
}
